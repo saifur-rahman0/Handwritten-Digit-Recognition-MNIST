{
 "cells": [
  {
   "cell_type": "raw",
   "id": "2410c699-f45f-4471-a91b-1c85a7bf428f",
   "metadata": {
    "editable": true,
    "raw_mimetype": "",
    "slideshow": {
     "slide_type": ""
    },
    "tags": []
   },
   "source": [
    "                    Digit Recognition Using (K-Nearest Neighbor) KNN Classifier"
   ]
  },
  {
   "cell_type": "code",
   "execution_count": 24,
   "id": "e9dd8dec-eb63-4921-ba88-0d45dfb5c4d4",
   "metadata": {
    "editable": true,
    "slideshow": {
     "slide_type": ""
    },
    "tags": []
   },
   "outputs": [],
   "source": [
    "import warnings\n",
    "warnings.filterwarnings('ignore')\n",
    "\n",
    "from sklearn.model_selection import train_test_split\n",
    "from sklearn.neighbors import KNeighborsClassifier\n",
    "from sklearn.metrics import classification_report\n",
    "from sklearn import datasets\n",
    "from skimage import exposure\n",
    "from sklearn import metrics\n",
    "\n",
    "import numpy as np\n",
    "import pandas as pd\n",
    "import math\n",
    "import operator\n",
    "import joblib\n"
   ]
  },
  {
   "cell_type": "raw",
   "id": "47e61d28-4410-4a81-9073-75c1efe82769",
   "metadata": {
    "editable": true,
    "raw_mimetype": "",
    "slideshow": {
     "slide_type": ""
    },
    "tags": []
   },
   "source": [
    "Reading MNIST dataset"
   ]
  },
  {
   "cell_type": "code",
   "execution_count": 25,
   "id": "1c67462c-0b34-4d0e-a7ea-2f283a5bebcb",
   "metadata": {
    "editable": true,
    "slideshow": {
     "slide_type": ""
    },
    "tags": []
   },
   "outputs": [
    {
     "name": "stdout",
     "output_type": "stream",
     "text": [
      "(60000, 784)\n",
      "(60000, 1)\n"
     ]
    }
   ],
   "source": [
    "train_data = pd.read_csv('./Datasets/mnist_train.csv', header=None)\n",
    "\n",
    "# Separate the header, labels, and features\n",
    "train_labels = train_data.iloc[1:, 0]\n",
    "train_data = train_data.iloc[1:, 1:]\n",
    "\n",
    "# Convert train_labels to DataFrame\n",
    "train_labels = pd.DataFrame(train_labels)\n",
    "\n",
    "# check data shape\n",
    "print(train_data.shape)\n",
    "print(train_labels.shape)"
   ]
  },
  {
   "cell_type": "code",
   "execution_count": 26,
   "id": "9f67998c-e7d8-4b18-9e5b-6bfb7042da77",
   "metadata": {},
   "outputs": [
    {
     "data": {
      "text/html": [
       "<div>\n",
       "<style scoped>\n",
       "    .dataframe tbody tr th:only-of-type {\n",
       "        vertical-align: middle;\n",
       "    }\n",
       "\n",
       "    .dataframe tbody tr th {\n",
       "        vertical-align: top;\n",
       "    }\n",
       "\n",
       "    .dataframe thead th {\n",
       "        text-align: right;\n",
       "    }\n",
       "</style>\n",
       "<table border=\"1\" class=\"dataframe\">\n",
       "  <thead>\n",
       "    <tr style=\"text-align: right;\">\n",
       "      <th></th>\n",
       "      <th>1</th>\n",
       "      <th>2</th>\n",
       "      <th>3</th>\n",
       "      <th>4</th>\n",
       "      <th>5</th>\n",
       "      <th>6</th>\n",
       "      <th>7</th>\n",
       "      <th>8</th>\n",
       "      <th>9</th>\n",
       "      <th>10</th>\n",
       "      <th>...</th>\n",
       "      <th>775</th>\n",
       "      <th>776</th>\n",
       "      <th>777</th>\n",
       "      <th>778</th>\n",
       "      <th>779</th>\n",
       "      <th>780</th>\n",
       "      <th>781</th>\n",
       "      <th>782</th>\n",
       "      <th>783</th>\n",
       "      <th>784</th>\n",
       "    </tr>\n",
       "  </thead>\n",
       "  <tbody>\n",
       "    <tr>\n",
       "      <th>1</th>\n",
       "      <td>0</td>\n",
       "      <td>0</td>\n",
       "      <td>0</td>\n",
       "      <td>0</td>\n",
       "      <td>0</td>\n",
       "      <td>0</td>\n",
       "      <td>0</td>\n",
       "      <td>0</td>\n",
       "      <td>0</td>\n",
       "      <td>0</td>\n",
       "      <td>...</td>\n",
       "      <td>0</td>\n",
       "      <td>0</td>\n",
       "      <td>0</td>\n",
       "      <td>0</td>\n",
       "      <td>0</td>\n",
       "      <td>0</td>\n",
       "      <td>0</td>\n",
       "      <td>0</td>\n",
       "      <td>0</td>\n",
       "      <td>0</td>\n",
       "    </tr>\n",
       "    <tr>\n",
       "      <th>2</th>\n",
       "      <td>0</td>\n",
       "      <td>0</td>\n",
       "      <td>0</td>\n",
       "      <td>0</td>\n",
       "      <td>0</td>\n",
       "      <td>0</td>\n",
       "      <td>0</td>\n",
       "      <td>0</td>\n",
       "      <td>0</td>\n",
       "      <td>0</td>\n",
       "      <td>...</td>\n",
       "      <td>0</td>\n",
       "      <td>0</td>\n",
       "      <td>0</td>\n",
       "      <td>0</td>\n",
       "      <td>0</td>\n",
       "      <td>0</td>\n",
       "      <td>0</td>\n",
       "      <td>0</td>\n",
       "      <td>0</td>\n",
       "      <td>0</td>\n",
       "    </tr>\n",
       "    <tr>\n",
       "      <th>3</th>\n",
       "      <td>0</td>\n",
       "      <td>0</td>\n",
       "      <td>0</td>\n",
       "      <td>0</td>\n",
       "      <td>0</td>\n",
       "      <td>0</td>\n",
       "      <td>0</td>\n",
       "      <td>0</td>\n",
       "      <td>0</td>\n",
       "      <td>0</td>\n",
       "      <td>...</td>\n",
       "      <td>0</td>\n",
       "      <td>0</td>\n",
       "      <td>0</td>\n",
       "      <td>0</td>\n",
       "      <td>0</td>\n",
       "      <td>0</td>\n",
       "      <td>0</td>\n",
       "      <td>0</td>\n",
       "      <td>0</td>\n",
       "      <td>0</td>\n",
       "    </tr>\n",
       "    <tr>\n",
       "      <th>4</th>\n",
       "      <td>0</td>\n",
       "      <td>0</td>\n",
       "      <td>0</td>\n",
       "      <td>0</td>\n",
       "      <td>0</td>\n",
       "      <td>0</td>\n",
       "      <td>0</td>\n",
       "      <td>0</td>\n",
       "      <td>0</td>\n",
       "      <td>0</td>\n",
       "      <td>...</td>\n",
       "      <td>0</td>\n",
       "      <td>0</td>\n",
       "      <td>0</td>\n",
       "      <td>0</td>\n",
       "      <td>0</td>\n",
       "      <td>0</td>\n",
       "      <td>0</td>\n",
       "      <td>0</td>\n",
       "      <td>0</td>\n",
       "      <td>0</td>\n",
       "    </tr>\n",
       "    <tr>\n",
       "      <th>5</th>\n",
       "      <td>0</td>\n",
       "      <td>0</td>\n",
       "      <td>0</td>\n",
       "      <td>0</td>\n",
       "      <td>0</td>\n",
       "      <td>0</td>\n",
       "      <td>0</td>\n",
       "      <td>0</td>\n",
       "      <td>0</td>\n",
       "      <td>0</td>\n",
       "      <td>...</td>\n",
       "      <td>0</td>\n",
       "      <td>0</td>\n",
       "      <td>0</td>\n",
       "      <td>0</td>\n",
       "      <td>0</td>\n",
       "      <td>0</td>\n",
       "      <td>0</td>\n",
       "      <td>0</td>\n",
       "      <td>0</td>\n",
       "      <td>0</td>\n",
       "    </tr>\n",
       "  </tbody>\n",
       "</table>\n",
       "<p>5 rows × 784 columns</p>\n",
       "</div>"
      ],
      "text/plain": [
       "  1   2   3   4   5   6   7   8   9   10   ... 775 776 777 778 779 780 781  \\\n",
       "1   0   0   0   0   0   0   0   0   0   0  ...   0   0   0   0   0   0   0   \n",
       "2   0   0   0   0   0   0   0   0   0   0  ...   0   0   0   0   0   0   0   \n",
       "3   0   0   0   0   0   0   0   0   0   0  ...   0   0   0   0   0   0   0   \n",
       "4   0   0   0   0   0   0   0   0   0   0  ...   0   0   0   0   0   0   0   \n",
       "5   0   0   0   0   0   0   0   0   0   0  ...   0   0   0   0   0   0   0   \n",
       "\n",
       "  782 783 784  \n",
       "1   0   0   0  \n",
       "2   0   0   0  \n",
       "3   0   0   0  \n",
       "4   0   0   0  \n",
       "5   0   0   0  \n",
       "\n",
       "[5 rows x 784 columns]"
      ]
     },
     "execution_count": 26,
     "metadata": {},
     "output_type": "execute_result"
    }
   ],
   "source": [
    "train_data.head()"
   ]
  },
  {
   "cell_type": "raw",
   "id": "592381af-f83b-4077-941f-37842ecc967b",
   "metadata": {
    "editable": true,
    "raw_mimetype": "",
    "slideshow": {
     "slide_type": ""
    },
    "tags": []
   },
   "source": [
    "Splitting the dataset for training, testing and validation"
   ]
  },
  {
   "cell_type": "code",
   "execution_count": 27,
   "id": "44a118e3-1af9-4321-bfba-3e068cf71a28",
   "metadata": {
    "editable": true,
    "slideshow": {
     "slide_type": ""
    },
    "tags": []
   },
   "outputs": [],
   "source": [
    "# Training and testing split,\n",
    "# 75% for training and 25% for testing\n",
    "X = train_data.copy()\n",
    "y = train_labels.copy()\n",
    "\n",
    "X_train, X_test, y_train, y_test = train_test_split(X, y, test_size=0.25, random_state = 42)\n",
    "\n",
    "# Convert data to numeric before normalizing\n",
    "X_train = X_train.astype(float) / 255.0\n",
    "X_test = X_test.astype(float) / 255.0\n",
    "\n",
    "# take 10% of the training data and use that for validation\n",
    "X_train, X_validate, y_train, y_validate = train_test_split(X_train, y_train, test_size=0.10, random_state=84)"
   ]
  },
  {
   "cell_type": "code",
   "execution_count": 28,
   "id": "2dfc0d5f-6d4a-4511-a2bd-e74128c608e6",
   "metadata": {
    "editable": true,
    "slideshow": {
     "slide_type": ""
    },
    "tags": []
   },
   "outputs": [
    {
     "name": "stdout",
     "output_type": "stream",
     "text": [
      "X_train shape: (40500, 784)\n",
      "y_train shape: (40500, 1)\n",
      "X_validate shape: (4500, 784)\n",
      "y_validate shape: (4500, 1)\n",
      "X_test shape: (15000, 784)\n",
      "y_test shape: (15000, 1)\n"
     ]
    }
   ],
   "source": [
    "# checking the splits\n",
    "print('X_train shape:', X_train.shape)\n",
    "print('y_train shape:', y_train.shape)\n",
    "print('X_validate shape:', X_validate.shape)\n",
    "print('y_validate shape:', y_validate.shape)\n",
    "print('X_test shape:', X_test.shape)\n",
    "print('y_test shape:', y_test.shape)"
   ]
  },
  {
   "cell_type": "raw",
   "id": "f9e5b0f3-7cc1-4ea7-a4c6-fd899d929c21",
   "metadata": {},
   "source": [
    "Determining the best value of 'k' as it is a hyper-parameter"
   ]
  },
  {
   "cell_type": "code",
   "execution_count": 29,
   "id": "c2f70877-7c24-401d-881c-57a159d8108a",
   "metadata": {},
   "outputs": [
    {
     "name": "stdout",
     "output_type": "stream",
     "text": [
      "k=1, accuracy=96.87%\n",
      "k=2, accuracy=96.51%\n",
      "k=3, accuracy=97.02%\n",
      "k=4, accuracy=96.76%\n",
      "k=5, accuracy=97.02%\n",
      "k=6, accuracy=96.62%\n",
      "k=7, accuracy=96.71%\n",
      "\n",
      "k=3 achieved highest accuracy of 97.02% on validation data\n"
     ]
    }
   ],
   "source": [
    "# list of accuracies for each value of k\n",
    "kVals = range(1, 8, 1)\n",
    "accuracies = []\n",
    "\n",
    "# loop over kVals\n",
    "for k in kVals:\n",
    "# train the classifier with the current value of `k`\n",
    "    model = KNeighborsClassifier(n_neighbors=k)\n",
    "    model.fit(X_train, y_train.values.ravel().astype(int)) # Convert to int here\n",
    "# evaluate the model and print the accuracies list\n",
    "    score = model.score(X_validate, y_validate.values.ravel().astype(int)) # Convert to int here as well\n",
    "    print(\"k=%d, accuracy=%.2f%%\" % (k, score * 100))\n",
    "    accuracies.append(score)\n",
    "\n",
    "# k with largest accuracy will be chosen for final training\n",
    "# np.argmax returns the indices of the maximum values along an axis\n",
    "i = np.argmax(accuracies)\n",
    "\n",
    "print(\"\\nk=%d achieved highest accuracy of %.2f%% on validation data\" % (kVals[i], accuracies[i] * 100))"
   ]
  },
  {
   "cell_type": "raw",
   "id": "030678ff-ee32-4de7-9526-35ed11d7aa37",
   "metadata": {},
   "source": [
    "Building and Evaluating the model using the best value of k"
   ]
  },
  {
   "cell_type": "code",
   "execution_count": 30,
   "id": "aa2b15bf-97e1-4e59-ae22-fd5048617030",
   "metadata": {},
   "outputs": [
    {
     "name": "stdout",
     "output_type": "stream",
     "text": [
      "Accuracy: 0.9698 \n",
      "\n"
     ]
    }
   ],
   "source": [
    "# Now that I know the best value of k, re-train the classifier\n",
    "model = KNeighborsClassifier(n_neighbors=kVals[i])\n",
    "\n",
    "# train the model again\n",
    "model.fit(X_train, y_train.values.ravel().astype(int))\n",
    "\n",
    "# Predict labels for the test set\n",
    "predictions = model.predict(X_test)\n",
    "\n",
    "# accuracy\n",
    "print(\"Accuracy:\", metrics.accuracy_score(y_true=y_test.values.ravel().astype(int), y_pred=predictions), \"\\n\")"
   ]
  },
  {
   "cell_type": "code",
   "execution_count": 31,
   "id": "6593a85b-e83d-4a46-a59e-e0bc7d4bab64",
   "metadata": {},
   "outputs": [
    {
     "name": "stdout",
     "output_type": "stream",
     "text": [
      "Evaluating on test data: \n",
      "              precision    recall  f1-score   support\n",
      "\n",
      "           0       0.98      0.99      0.98      1495\n",
      "           1       0.96      0.99      0.98      1649\n",
      "           2       0.97      0.96      0.97      1471\n",
      "           3       0.97      0.96      0.97      1518\n",
      "           4       0.97      0.97      0.97      1443\n",
      "           5       0.96      0.96      0.96      1383\n",
      "           6       0.98      0.99      0.98      1482\n",
      "           7       0.97      0.98      0.97      1635\n",
      "           8       0.99      0.93      0.96      1445\n",
      "           9       0.96      0.96      0.96      1479\n",
      "\n",
      "    accuracy                           0.97     15000\n",
      "   macro avg       0.97      0.97      0.97     15000\n",
      "weighted avg       0.97      0.97      0.97     15000\n",
      "\n"
     ]
    }
   ],
   "source": [
    "# Evaluate performance of model for each of the digits\n",
    "print(\"Evaluating on test data: \")\n",
    "print(classification_report(y_test.values.ravel().astype(int), predictions))"
   ]
  },
  {
   "cell_type": "code",
   "execution_count": 32,
   "id": "8924a7a5-3eba-40f2-8398-5223b3a5a2fe",
   "metadata": {},
   "outputs": [
    {
     "data": {
      "text/plain": [
       "['./Models/digit-classifier_knn.joblib']"
      ]
     },
     "execution_count": 32,
     "metadata": {},
     "output_type": "execute_result"
    }
   ],
   "source": [
    "\n",
    "# dumping the trained model for later use.\n",
    "joblib.dump(model, './Models/digit-classifier_knn.joblib')\n"
   ]
  },
  {
   "cell_type": "code",
   "execution_count": null,
   "id": "8fa03c7a-c03a-45f6-971e-a233b7607922",
   "metadata": {},
   "outputs": [],
   "source": [
    "Testing the final model on an unseen dataset"
   ]
  },
  {
   "cell_type": "code",
   "execution_count": 39,
   "id": "d3233583-ed74-499a-9ccd-6c0c6f7e4608",
   "metadata": {},
   "outputs": [
    {
     "name": "stdout",
     "output_type": "stream",
     "text": [
      "(10000, 784)\n",
      "(10000, 1)\n"
     ]
    }
   ],
   "source": [
    "# load the originial MNIST test data set\n",
    "test_data = pd.read_csv('./Datasets/mnist_test.csv', header=None)\n",
    "\n",
    "# Separate the header, labels, and features from test data\n",
    "test_labels = test_data.iloc[1:, 0]\n",
    "test_data = test_data.iloc[1:, 1:]\n",
    "\n",
    "# normalize test data\n",
    "test_data = test_data.astype(float)  / 255.0\n",
    "\n",
    "# Convert test_labels to DataFrame and then to integer type\n",
    "test_labels = pd.DataFrame(test_labels)\n",
    "test_labels = test_labels.astype(int)\n",
    "\n",
    "\n",
    "# check data shape\n",
    "print(test_data.shape)\n",
    "print(test_labels.shape)"
   ]
  },
  {
   "cell_type": "code",
   "execution_count": 40,
   "id": "d27004b4-777d-47fc-a187-e50e26195ccc",
   "metadata": {},
   "outputs": [
    {
     "name": "stdout",
     "output_type": "stream",
     "text": [
      "accuracy: 0.9679 \n",
      "\n"
     ]
    }
   ],
   "source": [
    "# Load the trained classifier\n",
    "model = joblib.load(\"./Models/digit-classifier_knn.joblib\")\n",
    "\n",
    "# make predictions\n",
    "predictions = model.predict(test_data)\n",
    "\n",
    "# accuracy\n",
    "print(\"accuracy:\", metrics.accuracy_score(y_true=test_labels.values.ravel() , y_pred=predictions), \"\\n\")"
   ]
  },
  {
   "cell_type": "code",
   "execution_count": 41,
   "id": "16f2a40f-1a0b-4db1-9be1-397ac02802a4",
   "metadata": {},
   "outputs": [
    {
     "name": "stdout",
     "output_type": "stream",
     "text": [
      "Evaluating on test data: \n",
      "              precision    recall  f1-score   support\n",
      "\n",
      "           0       0.97      0.99      0.98       980\n",
      "           1       0.95      1.00      0.97      1135\n",
      "           2       0.98      0.96      0.97      1032\n",
      "           3       0.96      0.97      0.96      1010\n",
      "           4       0.97      0.97      0.97       982\n",
      "           5       0.96      0.97      0.96       892\n",
      "           6       0.98      0.98      0.98       958\n",
      "           7       0.96      0.96      0.96      1028\n",
      "           8       0.99      0.93      0.96       974\n",
      "           9       0.96      0.95      0.95      1009\n",
      "\n",
      "    accuracy                           0.97     10000\n",
      "   macro avg       0.97      0.97      0.97     10000\n",
      "weighted avg       0.97      0.97      0.97     10000\n",
      "\n"
     ]
    }
   ],
   "source": [
    "# Evaluate performance of model for each of the digits\n",
    "print(\"Evaluating on test data: \")\n",
    "print(classification_report(test_labels.values.ravel(), predictions))"
   ]
  },
  {
   "cell_type": "code",
   "execution_count": null,
   "id": "2f91a94a-da3d-47ad-9a8e-698ee8115eaa",
   "metadata": {},
   "outputs": [],
   "source": []
  }
 ],
 "metadata": {
  "kernelspec": {
   "display_name": "Python 3 (ipykernel)",
   "language": "python",
   "name": "python3"
  },
  "language_info": {
   "codemirror_mode": {
    "name": "ipython",
    "version": 3
   },
   "file_extension": ".py",
   "mimetype": "text/x-python",
   "name": "python",
   "nbconvert_exporter": "python",
   "pygments_lexer": "ipython3",
   "version": "3.12.7"
  }
 },
 "nbformat": 4,
 "nbformat_minor": 5
}
