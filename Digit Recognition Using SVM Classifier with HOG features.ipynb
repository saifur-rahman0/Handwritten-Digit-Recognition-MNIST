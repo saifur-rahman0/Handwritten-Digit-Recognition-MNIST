{
 "cells": [
  {
   "cell_type": "raw",
   "id": "bd3dfb77-7781-4648-aa19-f010057475e9",
   "metadata": {},
   "source": [
    "                                Digit Recognition Using SVM Classifier with HOG features"
   ]
  },
  {
   "cell_type": "code",
   "execution_count": 1,
   "id": "3e64f895-3605-44e7-82ca-9df2448e5c71",
   "metadata": {},
   "outputs": [],
   "source": [
    "# import all necessary libraries\n",
    "import warnings\n",
    "warnings.filterwarnings('ignore')\n",
    "\n",
    "from sklearn.model_selection import train_test_split\n",
    "from sklearn import metrics\n",
    "from sklearn.svm import SVC\n",
    "from skimage.feature import hog\n",
    "from sklearn.model_selection import KFold\n",
    "from sklearn.model_selection import cross_val_score\n",
    "from sklearn.model_selection import GridSearchCV\n",
    "import joblib\n",
    "\n",
    "import pandas as pd\n",
    "import numpy as np\n",
    "import matplotlib.pyplot as plt"
   ]
  },
  {
   "cell_type": "raw",
   "id": "efb55184-4aee-4cfe-aaa2-3091cf9aeb15",
   "metadata": {},
   "source": [
    "Reading MNIST dataset"
   ]
  },
  {
   "cell_type": "code",
   "execution_count": 2,
   "id": "ef6abc10-8988-4423-a49a-ea8ee080c486",
   "metadata": {},
   "outputs": [
    {
     "name": "stdout",
     "output_type": "stream",
     "text": [
      "(60000, 784)\n",
      "(60000, 1)\n"
     ]
    }
   ],
   "source": [
    "train_data = pd.read_csv('./Datasets/mnist_train.csv', header=None)\n",
    "\n",
    "# Separate the header, labels, and features\n",
    "train_labels = train_data.iloc[1:, 0]\n",
    "train_data = train_data.iloc[1:, 1:]\n",
    "\n",
    "# Convert train_labels to DataFrame\n",
    "train_labels = pd.DataFrame(train_labels)\n",
    "\n",
    "# check data shape\n",
    "print(train_data.shape)\n",
    "print(train_labels.shape)"
   ]
  },
  {
   "cell_type": "raw",
   "id": "8ee2e4f2-5bab-46be-ad71-199ead1e104b",
   "metadata": {},
   "source": [
    "Extracting HOG features"
   ]
  },
  {
   "cell_type": "code",
   "execution_count": 3,
   "id": "dca3d33e-3cf2-471a-a20d-b863f588b7b9",
   "metadata": {},
   "outputs": [],
   "source": [
    "# extracting HOG features from the dataset\n",
    "def extract_features(features):\n",
    "    list_hog_fd = []\n",
    "    for feature in features:\n",
    "        fd = hog(feature.reshape((28, 28)), orientations=4, pixels_per_cell=(4, 4), cells_per_block=(4, 4), visualize=False, block_norm = 'L2-Hys')\n",
    "        list_hog_fd.append(fd)\n",
    "    hog_features = np.array(list_hog_fd, 'float64')\n",
    "    return hog_features"
   ]
  },
  {
   "cell_type": "code",
   "execution_count": 4,
   "id": "0c6971d1-d5f7-4caa-99fc-8accd5828afe",
   "metadata": {},
   "outputs": [],
   "source": [
    "# Extract the features and labels\n",
    "features = np.array(train_data, 'int16')\n",
    "labels = np.array(train_labels, 'int')\n",
    "\n",
    "hog_features = extract_features(features)"
   ]
  },
  {
   "cell_type": "raw",
   "id": "e2ffde7b-a3e4-4cb4-962b-171bdfe115b6",
   "metadata": {},
   "source": [
    "Splitting the dataset for training and testing"
   ]
  },
  {
   "cell_type": "code",
   "execution_count": 5,
   "id": "329e6092-e826-4158-8593-9a29d13d72cf",
   "metadata": {},
   "outputs": [],
   "source": [
    "# train test split\n",
    "X_train, X_test, y_train, y_test = train_test_split(hog_features, labels, test_size = 0.80, random_state = 42)\n",
    "\n",
    "# normalize the data\n",
    "X_train = X_train / 255.0\n",
    "X_test = X_test / 255.0"
   ]
  },
  {
   "cell_type": "code",
   "execution_count": 6,
   "id": "1612ea4a-33d9-4000-8bee-c7032f4e17de",
   "metadata": {},
   "outputs": [
    {
     "name": "stdout",
     "output_type": "stream",
     "text": [
      "X_train shape: (12000, 1024)\n",
      "y_train shape: (12000, 1)\n",
      "X_test shape: (48000, 1024)\n",
      "y_test shape: (48000, 1)\n"
     ]
    }
   ],
   "source": [
    "# checking the splits\n",
    "print('X_train shape:', X_train.shape)\n",
    "print('y_train shape:', y_train.shape)\n",
    "print('X_test shape:', X_test.shape)\n",
    "print('y_test shape:', y_test.shape)"
   ]
  },
  {
   "cell_type": "raw",
   "id": "152c4882-64d1-4d7f-abd0-9f0fc8b0a182",
   "metadata": {},
   "source": [
    "                    Model Building"
   ]
  },
  {
   "cell_type": "raw",
   "id": "6400394b-96fc-446d-9ae7-fcb5a6d8fe83",
   "metadata": {},
   "source": [
    "1. Linear Model"
   ]
  },
  {
   "cell_type": "code",
   "execution_count": 10,
   "id": "06af0f2c-7d40-419e-956b-5cdb06203aac",
   "metadata": {},
   "outputs": [
    {
     "name": "stdout",
     "output_type": "stream",
     "text": [
      "Best parameters: {'C': 100}\n",
      "Best cross-validation accuracy: 0.93925\n"
     ]
    },
    {
     "data": {
      "text/plain": [
       "['./Models/best_linearSVM.pkl']"
      ]
     },
     "execution_count": 10,
     "metadata": {},
     "output_type": "execute_result"
    }
   ],
   "source": [
    "# Define the parameter grid for C\n",
    "param_grid = {'C': [0.001, 0.01, 0.1, 1, 10, 100]}\n",
    "\n",
    "# Create a GridSearchCV object\n",
    "grid_search = GridSearchCV(SVC(kernel='linear'), param_grid, cv=5, scoring='accuracy', n_jobs=-1)\n",
    "\n",
    "# Fit the grid search to the data\n",
    "grid_search.fit(X_train, y_train.ravel())\n",
    "\n",
    "# Print the best parameters and the best score\n",
    "print(\"Best parameters:\", grid_search.best_params_)\n",
    "print(\"Best cross-validation accuracy:\", grid_search.best_score_)\n",
    "\n",
    "# Get the best model\n",
    "best_linear_svm = grid_search.best_estimator_\n",
    "\n",
    "# Save the best linear SVM classifier\n",
    "joblib.dump(best_linear_svm, \"./Models/best_linearSVM.pkl\")"
   ]
  },
  {
   "cell_type": "code",
   "execution_count": 11,
   "id": "bf168d8b-6cda-4a8c-a847-0f107f3194d0",
   "metadata": {},
   "outputs": [
    {
     "name": "stdout",
     "output_type": "stream",
     "text": [
      "accuracy: 0.9432916666666666 \n",
      "\n"
     ]
    }
   ],
   "source": [
    "#Load the classifier\n",
    "model = joblib.load(\"./Models/best_linearSVM.pkl\")\n",
    "\n",
    "# predict\n",
    "y_pred = model.predict(X_test)\n",
    "\n",
    "# accuracy\n",
    "print(\"accuracy:\", metrics.accuracy_score(y_true=y_test, y_pred=y_pred), \"\\n\")"
   ]
  },
  {
   "cell_type": "code",
   "execution_count": 10,
   "id": "1c42e948-ef34-4aca-b04b-e828f50691fc",
   "metadata": {},
   "outputs": [
    {
     "name": "stdout",
     "output_type": "stream",
     "text": [
      "              precision    recall  f1-score   support\n",
      "\n",
      "           0       0.00      0.00      0.00      4751\n",
      "           1       0.11      1.00      0.20      5355\n",
      "           2       0.00      0.00      0.00      4742\n",
      "           3       0.00      0.00      0.00      4966\n",
      "           4       0.00      0.00      0.00      4703\n",
      "           5       0.00      0.00      0.00      4355\n",
      "           6       0.00      0.00      0.00      4711\n",
      "           7       0.00      0.00      0.00      5007\n",
      "           8       0.00      0.00      0.00      4647\n",
      "           9       0.00      0.00      0.00      4763\n",
      "\n",
      "    accuracy                           0.11     48000\n",
      "   macro avg       0.01      0.10      0.02     48000\n",
      "weighted avg       0.01      0.11      0.02     48000\n",
      "\n"
     ]
    }
   ],
   "source": [
    "# precision, recall and f1-score\n",
    "scores=metrics.classification_report(y_test, y_pred, labels=[0, 1, 2, 3, 4, 5, 6, 7, 8, 9])\n",
    "print(scores)"
   ]
  },
  {
   "cell_type": "raw",
   "id": "0d861d35-b9c1-4597-925b-6634ef4b50a7",
   "metadata": {},
   "source": [
    "2.Non-Linear Model"
   ]
  },
  {
   "cell_type": "raw",
   "id": "3af51b1a-3afe-4e68-926d-07eda4a5949d",
   "metadata": {},
   "source": [
    "2.1. Poly kernel"
   ]
  },
  {
   "cell_type": "code",
   "execution_count": 12,
   "id": "0016b94d-c2ef-4df9-841d-9560af2b58d6",
   "metadata": {},
   "outputs": [
    {
     "data": {
      "text/plain": [
       "['./Models/nonlinear-Poly.pkl']"
      ]
     },
     "execution_count": 12,
     "metadata": {},
     "output_type": "execute_result"
    }
   ],
   "source": [
    "# Create a non-linear poly object\n",
    "clf = SVC(kernel=\"poly\")\n",
    "\n",
    "# Perform the training\n",
    "clf.fit(X_train, y_train.ravel())\n",
    "\n",
    "# Save the classifier as pkl file\n",
    "joblib.dump(clf, \"./Models/nonlinear-Poly.pkl\")"
   ]
  },
  {
   "cell_type": "code",
   "execution_count": 13,
   "id": "d3f3192f-262b-4c2b-8f27-d3917688f4d8",
   "metadata": {},
   "outputs": [
    {
     "name": "stdout",
     "output_type": "stream",
     "text": [
      "accuracy: 0.9838541666666667 \n",
      "\n"
     ]
    }
   ],
   "source": [
    "#Load the classifier\n",
    "model = joblib.load(\"./Models/nonlinear-Poly.pkl\")\n",
    "\n",
    "# predict\n",
    "y_pred = model.predict(X_test)\n",
    "\n",
    "# accuracy\n",
    "print(\"accuracy:\", metrics.accuracy_score(y_true=y_test, y_pred=y_pred.ravel()), \"\\n\")"
   ]
  },
  {
   "cell_type": "code",
   "execution_count": 14,
   "id": "0124f1bd-17d5-482c-ad83-5de6796df042",
   "metadata": {},
   "outputs": [
    {
     "name": "stdout",
     "output_type": "stream",
     "text": [
      "              precision    recall  f1-score   support\n",
      "\n",
      "           0       0.99      0.99      0.99      4751\n",
      "           1       0.99      0.99      0.99      5355\n",
      "           2       0.98      0.99      0.98      4742\n",
      "           3       0.98      0.98      0.98      4966\n",
      "           4       0.98      0.99      0.98      4703\n",
      "           5       0.99      0.98      0.98      4355\n",
      "           6       0.98      0.99      0.99      4711\n",
      "           7       0.98      0.98      0.98      5007\n",
      "           8       0.98      0.98      0.98      4647\n",
      "           9       0.98      0.97      0.98      4763\n",
      "\n",
      "    accuracy                           0.98     48000\n",
      "   macro avg       0.98      0.98      0.98     48000\n",
      "weighted avg       0.98      0.98      0.98     48000\n",
      "\n"
     ]
    }
   ],
   "source": [
    "# precision, recall and f1-score\n",
    "scores=metrics.classification_report(y_test, y_pred, labels=[0, 1, 2, 3, 4, 5, 6, 7, 8, 9])\n",
    "print(scores)"
   ]
  },
  {
   "cell_type": "raw",
   "id": "5e2a02de-be06-4c3c-aa6b-75b853630737",
   "metadata": {},
   "source": [
    "2.2. rbf kernel"
   ]
  },
  {
   "cell_type": "code",
   "execution_count": 15,
   "id": "20de9d5c-648d-4b23-ad91-25ea1ad8b9d9",
   "metadata": {},
   "outputs": [
    {
     "data": {
      "text/plain": [
       "['./Models/nonlinear-Rbf.pkl']"
      ]
     },
     "execution_count": 15,
     "metadata": {},
     "output_type": "execute_result"
    }
   ],
   "source": [
    "# non-linear model\n",
    "# using rbf kernel, C=1, default value of gamma\n",
    "clf = SVC(kernel=\"rbf\")\n",
    "\n",
    "# fit\n",
    "clf.fit(X_train, y_train.ravel())\n",
    "\n",
    "# Save the classifier as pkl file\n",
    "joblib.dump(clf, \"./Models/nonlinear-Rbf.pkl\")"
   ]
  },
  {
   "cell_type": "code",
   "execution_count": 16,
   "id": "50678aab-db32-491b-9819-56c1a85e6386",
   "metadata": {},
   "outputs": [
    {
     "name": "stdout",
     "output_type": "stream",
     "text": [
      "accuracy: 0.9823125 \n",
      "\n"
     ]
    }
   ],
   "source": [
    "# Load the classifier\n",
    "model = joblib.load(\"./Models/nonlinear-Rbf.pkl\")\n",
    "\n",
    "# predict\n",
    "y_pred = model.predict(X_test)\n",
    "\n",
    "# accuracy\n",
    "print(\"accuracy:\", metrics.accuracy_score(y_true=y_test, y_pred=y_pred.ravel()), \"\\n\")"
   ]
  },
  {
   "cell_type": "code",
   "execution_count": 17,
   "id": "8fcba264-7021-430a-b223-642a80e4e113",
   "metadata": {},
   "outputs": [
    {
     "name": "stdout",
     "output_type": "stream",
     "text": [
      "              precision    recall  f1-score   support\n",
      "\n",
      "           0       0.99      0.99      0.99      4751\n",
      "           1       0.99      0.99      0.99      5355\n",
      "           2       0.98      0.99      0.98      4742\n",
      "           3       0.98      0.98      0.98      4966\n",
      "           4       0.98      0.98      0.98      4703\n",
      "           5       0.99      0.98      0.98      4355\n",
      "           6       0.98      0.99      0.99      4711\n",
      "           7       0.98      0.98      0.98      5007\n",
      "           8       0.97      0.97      0.97      4647\n",
      "           9       0.98      0.97      0.97      4763\n",
      "\n",
      "    accuracy                           0.98     48000\n",
      "   macro avg       0.98      0.98      0.98     48000\n",
      "weighted avg       0.98      0.98      0.98     48000\n",
      "\n"
     ]
    }
   ],
   "source": [
    "# precision, recall and f1-score\n",
    "scores=metrics.classification_report(y_test, y_pred, labels=[0, 1, 2, 3, 4, 5, 6, 7, 8, 9])\n",
    "print(scores)"
   ]
  },
  {
   "cell_type": "code",
   "execution_count": null,
   "id": "c172224a-9bc8-492d-8f9d-d90a8984230b",
   "metadata": {},
   "outputs": [],
   "source": []
  }
 ],
 "metadata": {
  "kernelspec": {
   "display_name": "Python 3 (ipykernel)",
   "language": "python",
   "name": "python3"
  },
  "language_info": {
   "codemirror_mode": {
    "name": "ipython",
    "version": 3
   },
   "file_extension": ".py",
   "mimetype": "text/x-python",
   "name": "python",
   "nbconvert_exporter": "python",
   "pygments_lexer": "ipython3",
   "version": "3.12.7"
  }
 },
 "nbformat": 4,
 "nbformat_minor": 5
}
